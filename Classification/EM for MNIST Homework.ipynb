{
 "cells": [
  {
   "cell_type": "markdown",
   "metadata": {},
   "source": [
    "<h3><div style=\"text-align: right\"> Tim Wilcox </div>\n",
    "<div style=\"text-align: right\"> ISYE 6740x</div>\n",
    "<div style=\"text-align: right\"> Homework # 3 </div></h3>"
   ]
  },
  {
   "cell_type": "markdown",
   "metadata": {},
   "source": [
    "<b><h2>Implementing EM algorithm for MNIST dataset. (50 points)</h2><br>\n",
    "\n",
    "*Implement the EM algorithm for fitting a Gaussian mixture  model for the MNIST dataset. We reduce the dataset to be only two cases of digits \"2\" and \"6\" only. Thus, you will fit GMM with C = 2. Use the data file <b>data.dat</b> or <b>data.mat</b> on Canvas. True label of the data are also provided in <b>label.mat</b> and <b>label.dat</b>.\n",
    "The matrix <b>images</b> is of size 784-by-1990, i.e., there are totally 1990 images, and each column of the matrix corresponds to one image of size 28-by-28 pixels (the image is vectorized; the original image can be recovered, e.g., using MATLAB code, <b>reshape(images(:,1),28,28)</b>.*\n",
    "\n",
    " (a)  *Select from data one raw image of \"2\" and \"6\" and visualize them, respectively:*</b>"
   ]
  },
  {
   "cell_type": "code",
   "execution_count": 1,
   "metadata": {},
   "outputs": [],
   "source": [
    "# read data and do preprocessing (unscrew the column order storage artifact!)\n",
    "import pandas as pd\n",
    "import math\n",
    "import matplotlib.pyplot as plt\n",
    "\n",
    "data = pd.read_csv('data.dat', sep='\\s+', header=None).values\n",
    "(P, N) = data.shape\n",
    "p = int(math.sqrt(P))\n",
    "data = data.T.reshape((N, p, p), order='F').reshape((N,P)).T\n"
   ]
  },
  {
   "cell_type": "code",
   "execution_count": 2,
   "metadata": {},
   "outputs": [
    {
     "data": {
      "text/plain": [
       "(-0.5, 27.5, 27.5, -0.5)"
      ]
     },
     "execution_count": 2,
     "metadata": {},
     "output_type": "execute_result"
    },
    {
     "data": {
      "image/png": "[encoded data removed]",
      "text/plain": [
       "<Figure size 720x720 with 2 Axes>"
      ]
     },
     "metadata": {
      "needs_background": "light"
     },
     "output_type": "display_data"
    }
   ],
   "source": [
    "fig = plt.figure(figsize=(10,10))\n",
    "ax1 = fig.add_subplot(1,2,1)\n",
    "ax2 = fig.add_subplot(1,2,2)\n",
    "fig.suptitle('Visualizing MNIST Excerpted Dataset')\n",
    "ax1.imshow(data[:,666].reshape((p,p)), cmap = 'gray')\n",
    "ax1.set_title('2')\n",
    "ax1.axis('off')\n",
    "ax2.imshow(data[:,1492].reshape((p,p)), cmap = 'gray')\n",
    "ax2.set_title('6')\n",
    "ax2.axis('off')\n"
   ]
  },
  {
   "cell_type": "markdown",
   "metadata": {},
   "source": [
    "  <b>(b)    *Use  random  Gaussian  vector  with  zero  mean  as  initial  means,  and  identity  matrix  as  initialcovariance matrix for the clusters.  Please plot the log-likelihood function versus the number ofiterations to show your algorithm is converging.*</b>"
   ]
  },
  {
   "cell_type": "code",
   "execution_count": 3,
   "metadata": {},
   "outputs": [
    {
     "name": "stdout",
     "output_type": "stream",
     "text": [
      "EM +GMM iteration number 1\n",
      "1981.5737852329275 3.609057270863628e-33\n",
      "EM +GMM iteration number 2\n",
      "0.00979141684721586 1.9608017947686345e-140\n",
      "EM +GMM iteration number 3\n",
      "7.142705548716548e-07 1.4296501214427322e-144\n",
      "EM +GMM iteration number 4\n",
      "5.204305340052621e-11 1.0416659754720323e-148\n",
      "EM +GMM iteration number 5\n",
      "3.791893596038461e-15 7.600983724033278e-153\n",
      "EM +GMM iteration number 6\n",
      "2.7604225972180253e-19 6.206518722017963e-157\n",
      "done\n"
     ]
    }
   ],
   "source": [
    "def EM_for_GMM(X, K=2, r=30, tol=1e-15, max_iter=25, scaled=False):\n",
    "    import numpy as np\n",
    "    import matplotlib.pyplot as plt\n",
    "    import math\n",
    "    from copy import deepcopy\n",
    "    from sklearn.preprocessing import scale, Normalizer\n",
    "    from scipy.stats import multivariate_normal as mvn\n",
    "    \n",
    "    transformer = Normalizer()\n",
    "    \n",
    "    if scaled == False:\n",
    "        X = scale(X)\n",
    "    (P,N) = X.shape\n",
    "    N_k = np.zeros((K))\n",
    "    mu_k = np.zeros((K,P))\n",
    "    splits = np.split(X, K, axis=1)\n",
    "    for i in range(K):\n",
    "        mu_k[i] = np.mean(splits[i])\n",
    "    Sigma_k = np.zeros((K,P,P))\n",
    "    for i in range(K):\n",
    "        Sigma_k[i] = np.cov(splits[i])\n",
    "    pi = np.zeros((K))\n",
    "    for i in range(K):\n",
    "        pi[i] = 0.5\n",
    "    U = np.zeros((K,P,P))\n",
    "    V = np.zeros((K,P))\n",
    "    U_r = np.zeros((K,P,r))\n",
    "    V_r = np.zeros((K,r))\n",
    "    Sigma_r = np.zeros((K,P,P))\n",
    "    tau = np.zeros((K,N))\n",
    "    tausaver = np.zeros((0,K,N))\n",
    "    Density = np.zeros((K,N))\n",
    "    LLsave = np.zeros((1,1))\n",
    "    musave = np.zeros((0,K,P))\n",
    "    \n",
    "    error = 10000\n",
    "    iter_ct = 0\n",
    "    \n",
    "    while iter_ct < max_iter and error > tol:\n",
    "        iter_ct += 1 \n",
    "        print('EM +GMM iteration number {}'.format(iter_ct))\n",
    "        tau_old = deepcopy(tau)\n",
    "        mu_old = deepcopy(mu_k)\n",
    "        Sigma_old = deepcopy(Sigma_k)\n",
    "        \n",
    "\n",
    "        for i in range(K):\n",
    "            V[i], U[i] = np.linalg.eigh(Sigma_k[i])\n",
    "            idx = V[i].argsort()\n",
    "            V[i] = np.array(V[i][idx])\n",
    "            U[i] = np.array(U[i][idx])\n",
    "            U_r[i] = U[i][:,P-r:P]\n",
    "            V_r[i] = V[i,P-r:P]\n",
    "            Sigma_k[i] = U_r[i] @ np.diag(V_r[i]) @ U_r[i].T\n",
    "            Density[i] = mvn.pdf(X.T, mean=mu_k[i], cov = Sigma_k[i], allow_singular=True)\n",
    "            \n",
    "            \n",
    "        tau = (pi.reshape((K,1)) * Density) / np.sum(pi.reshape((K,1)) * Density, axis = 0)\n",
    "        N_k = np.sum(tau, axis = 1)\n",
    "        mu_k = np.zeros((K,P)) #reset mu_k\n",
    "        \n",
    "        \n",
    "        for i in range(K):\n",
    "            pi[i] = tau[i,:].sum()/N\n",
    "            for j in range(N):\n",
    "                mu_k[i] += 1/N_k[i] * Density[i,j] * X[:,j]\n",
    "            \n",
    "\n",
    "        for i in range(K):\n",
    "            for j in range(N):\n",
    "                Sigma_k[i] += 1/N_k[i] * Density[i,j] * (X - mu_k[i].reshape((P,1))) @ (X - mu_k[i].reshape((P,1))).T\n",
    "        LL = np.array(np.sum(np.log(np.sum(pi.reshape((K,1)) * Density, axis=0)))).reshape((1,1))\n",
    "        error1 = np.linalg.norm(tau - tau_old)**2\n",
    "        error2 = np.linalg.norm(mu_k - mu_old)**2 \n",
    "        print(error1, error2)\n",
    "        error = np.max([error1, error2])\n",
    "        tausaver = np.append(tausaver, tau.reshape((1,K,N)), axis = 0)\n",
    "        LLsave = np.append(LLsave, LL, axis=0)\n",
    "        musave = np.append(musave, mu_k.reshape((1,K,P)), axis = 0)\n",
    "    print('done')\n",
    "    return mu_k, musave, tau, pi, N_k, LLsave, iter_ct\n",
    "mu_k, mus, tau_k, pi, N_k, LgLks, iterations = EM_for_GMM(data, r=75, max_iter=12)"
   ]
  },
  {
   "cell_type": "code",
   "execution_count": 4,
   "metadata": {},
   "outputs": [
    {
     "data": {
      "image/png": "[encoded data removed]",
      "text/plain": [
       "<Figure size 432x288 with 1 Axes>"
      ]
     },
     "metadata": {
      "needs_background": "light"
     },
     "output_type": "display_data"
    }
   ],
   "source": [
    "import numpy as np \n",
    "from scipy.interpolate import make_interp_spline, BSpline\n",
    "from matplotlib import pyplot as plt\n",
    "# iterations = 50\n",
    "xnew = np.linspace(1, iterations, iterations+1)\n",
    "\n",
    "\n",
    "\n",
    "plt.plot(xnew[0:], LgLks[0:], 'k.')\n",
    "plt.plot(xnew[0:], LgLks[0:])\n",
    "plt.ylim((1.1*max(LgLks), 1.1*min(LgLks)))\n",
    "plt.ylabel('Log Likelihood')\n",
    "plt.xlabel('iterations')\n",
    "\n",
    "plt.show()"
   ]
  },
  {
   "cell_type": "markdown",
   "metadata": {},
   "source": [
    "As you can see from the above graph the log-likelihood function is converging. The steps to update $\\mu_k$ and $\\Sigma_k$ definitely take the longest to complete. The size of $r$ has a large impact on how accurate the runs are, as well as how quickly it converges -- a large $r$ takes more time to complete an iteration. I found that I had to reset $\\mu_k$ on each iteration (this took me forever to realize it), but once I did a lot of my divide by zero errors and blank mean image problems disappeard. I believe this version of the algorithm to be quite robust. I  relied heavily on the low-rank approximation of $\\Sigma_k$, but with a large enough $r$ it doesn't seem to cause any issues. "
   ]
  },
  {
   "cell_type": "markdown",
   "metadata": {},
   "source": [
    "<b>  (c)    *Report the finally fitting GMM model when EM terminates: the weights for each component, the mean vectors (please reformat the vectors into 28-by-28 images and show these images in your submission). Ideally, you should be able to see these means corresponds to \"average\" images. No need to report the covariance matrices.*</b>"
   ]
  },
  {
   "cell_type": "code",
   "execution_count": 5,
   "metadata": {},
   "outputs": [
    {
     "name": "stdout",
     "output_type": "stream",
     "text": [
      "A glimpse of the weights for cluster 0:\n",
      "\n",
      " [1.00000000e+00 1.00000000e+00 1.00000000e+00 ... 1.28078550e-09\n",
      " 7.03981627e-22 1.48166397e-17] \n",
      "\n",
      "A glimpse of the weights for cluster 1:\n",
      "\n",
      " [3.43892254e-18 2.80363635e-35 7.73988233e-18 ... 9.99999999e-01\n",
      " 1.00000000e+00 1.00000000e+00] \n",
      "\n"
     ]
    }
   ],
   "source": [
    "K = 2\n",
    "for i in range(K):\n",
    "    print('A glimpse of the weights for cluster {}:\\n\\n {} \\n'.format(i, tau_k[i]))"
   ]
  },
  {
   "cell_type": "markdown",
   "metadata": {},
   "source": [
    "The weights are available in the object **tau_k** which has dimensions $\\rm I\\!R^{2 x 1990}$.\n",
    "\n",
    "Below, we plot the mean vectors (these are also available in the **mu_k** object which has dimensions $\\rm I\\!R^{2 x 784}$. Additionally, the $\\mu_k$ values from all iterations are saved in the <b>mus</b> object."
   ]
  },
  {
   "cell_type": "code",
   "execution_count": 6,
   "metadata": {},
   "outputs": [
    {
     "data": {
      "text/plain": [
       "(-0.5, 27.5, 27.5, -0.5)"
      ]
     },
     "execution_count": 6,
     "metadata": {},
     "output_type": "execute_result"
    },
    {
     "data": {
      "image/png": "[encoded data removed]",
      "text/plain": [
       "<Figure size 720x720 with 2 Axes>"
      ]
     },
     "metadata": {
      "needs_background": "light"
     },
     "output_type": "display_data"
    }
   ],
   "source": [
    "fig = plt.figure(figsize=(10,10))\n",
    "ax1 = fig.add_subplot(1,2,1)\n",
    "ax2 = fig.add_subplot(1,2,2)\n",
    "fig.suptitle('Visualizing mean vectors')\n",
    "ax1.imshow(mu_k[0].reshape((p,p)), cmap = 'gray')\n",
    "ax1.set_title('cluster 0')\n",
    "ax1.axis('off')\n",
    "ax2.imshow(mu_k[1].reshape((p,p)), cmap = 'gray')\n",
    "ax2.set_title('cluster 1')\n",
    "ax2.axis('off')"
   ]
  },
  {
   "cell_type": "markdown",
   "metadata": {},
   "source": [
    "<b>(d)  (Optional).  *Use the $\\tau_c$ to infer the labels of the images, and compare with the true labels.  Report the miss classification rate for digits “2” and “6” respectively.  Perform K-means clustering with K= 2.  Find out the miss classification rate for digits “2” and “6” respectively, and compare with GMM. Which one achieves the better performance?*</b>"
   ]
  },
  {
   "cell_type": "code",
   "execution_count": 10,
   "metadata": {},
   "outputs": [
    {
     "name": "stdout",
     "output_type": "stream",
     "text": [
      "The EM +GMM method scores 96.0% accuracy.\n",
      "The KMeans method scores 94.0% accuracy.\n"
     ]
    }
   ],
   "source": [
    "truelabels = pd.read_csv('label.dat', sep = '\\s+', header=None).values\n",
    "truelabels = (truelabels == 2).astype(int)\n",
    "\n",
    "EMGMMlabels = (tau_k[0]>0.5).astype(int)\n",
    "\n",
    "from sklearn.cluster import KMeans\n",
    "kmeans = KMeans(n_clusters = K).fit(data.T)\n",
    "Klabels = kmeans.labels_\n",
    "\n",
    "Kscore = np.sum(Klabels == truelabels)/N\n",
    "EMGMMscore = np.sum(EMGMMlabels == truelabels)/N\n",
    "\n",
    "print('The EM +GMM method scores {}% accuracy.'.format(round(EMGMMscore*100)))\n",
    "print('The KMeans method scores {}% accuracy.'.format(round(Kscore*100)))"
   ]
  },
  {
   "cell_type": "markdown",
   "metadata": {},
   "source": [
    "The EM +GMM algorithm performs better on the data but takes several iterations to converge (depends on r). On my rig, with $r \\approx 100$ it took around 20 minutes to complete a run. The classification is better with EM +GMM but can't match the speed of K-Means. K-Means takes just a few seconds to complete. Depending on the above, you might have to play with the $\\tau_k$ and **Klabels** objects so that they display the correct orientation. However, with $r\\approx 100$ I was getting EM +GMM scores of about 96%. KMeans does around 94% every time. "
   ]
  },
  {
   "cell_type": "code",
   "execution_count": null,
   "metadata": {},
   "outputs": [],
   "source": []
  }
 ],
 "metadata": {
  "kernelspec": {
   "display_name": "Python 3",
   "language": "python",
   "name": "python3"
  },
  "language_info": {
   "codemirror_mode": {
    "name": "ipython",
    "version": 3
   },
   "file_extension": ".py",
   "mimetype": "text/x-python",
   "name": "python",
   "nbconvert_exporter": "python",
   "pygments_lexer": "ipython3",
   "version": "3.6.9"
  }
 },
 "nbformat": 4,
 "nbformat_minor": 2
}
