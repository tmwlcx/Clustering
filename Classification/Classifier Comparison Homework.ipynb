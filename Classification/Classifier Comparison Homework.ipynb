{
 "cells": [

  {
   "cell_type": "markdown",
   "metadata": {},
   "source": [
    "<b><h2>2.Comparing Bayes, logistic, and KNN classifiers.</h2><br>In lectures we learn three different classifiers.  This question is to implement and compare them.  We are suggest use Scikit-learn, which is a commonly used and powerful Python library with various machine learning tools.  But you can also use other similar library in other languages of your choice to perform the tasks.</b>"
   ]
  },
  {
   "cell_type": "markdown",
   "metadata": {},
   "source": [
    "<h3>Part One (Divorce classification/prediction).  <t>(30 points)</h3>\n",
    "<br>\n",
    "<b>This dataset is about participants who completed the personal information form and a divorce predic-tors scale. The data is a modified version of the publicly available at https://archive.ics.uci.edu/ml/datasets/Divorce+Predictors+data+set (by injecting noise so you will not replicate the results on uci web-site).  There are 170 participants and 54 attributes (or predictor variables) that are all real-valued.  The dataset <b>q3.csv</b>.  The last column of the CSV file is label <i>y</i> (1 means “divorce”, 0 means “no divorce”). Each column is for one feature (predictor variable), and each row is a sample (participant).  A detailed explanation for each feature (predictor variable) can be found at the website link above.  Our goal is to build a classifier using training data, such that given a test sample, we can classify (or essentially predict) whether its label is 0 (“no divorce”) or 1 (“divorce”). Build  three  classifiers  using  (Naive  Bayes,  Logistic  Regression,  KNN).  Use  the  first  80%  data  for training and the remaining 20% for testing.  If you use scikit-learn you can use <i>train_test_split</i> to split the dataset.</b>"
   ]
  },
  {
   "cell_type": "markdown",
   "metadata": {},
   "source": [
    "(a)  <b>Report testing accuracy for each of the three classifiers.  Comment on their performance:  which performs the best and make a guess why they perform the best in this setting.</b>"
   ]
  },
  {
   "cell_type": "code",
   "execution_count": 1,
   "metadata": {},
   "outputs": [],
   "source": [
    "# import imports\n",
    "import pandas as pd\n",
    "import numpy as np\n",
    "import matplotlib.pyplot as plt # see if we need this\n",
    "from sklearn.model_selection import train_test_split\n",
    "from sklearn.naive_bayes import GaussianNB\n",
    "from sklearn.linear_model import LogisticRegression\n",
    "from sklearn.neighbors import KNeighborsClassifier"
   ]
  },
  {
   "cell_type": "code",
   "execution_count": 2,
   "metadata": {},
   "outputs": [
    {
     "data": {
      "text/html": [
       "<div>\n",
       "<style scoped>\n",
       "    .dataframe tbody tr th:only-of-type {\n",
       "        vertical-align: middle;\n",
       "    }\n",
       "\n",
       "    .dataframe tbody tr th {\n",
       "        vertical-align: top;\n",
       "    }\n",
       "\n",
       "    .dataframe thead th {\n",
       "        text-align: right;\n",
       "    }\n",
       "</style>\n",
       "<table border=\"1\" class=\"dataframe\">\n",
       "  <thead>\n",
       "    <tr style=\"text-align: right;\">\n",
       "      <th></th>\n",
       "      <th>0</th>\n",
       "      <th>1</th>\n",
       "      <th>2</th>\n",
       "      <th>3</th>\n",
       "      <th>4</th>\n",
       "      <th>5</th>\n",
       "      <th>6</th>\n",
       "      <th>7</th>\n",
       "      <th>8</th>\n",
       "      <th>9</th>\n",
       "      <th>...</th>\n",
       "      <th>45</th>\n",
       "      <th>46</th>\n",
       "      <th>47</th>\n",
       "      <th>48</th>\n",
       "      <th>49</th>\n",
       "      <th>50</th>\n",
       "      <th>51</th>\n",
       "      <th>52</th>\n",
       "      <th>53</th>\n",
       "      <th>54</th>\n",
       "    </tr>\n",
       "  </thead>\n",
       "  <tbody>\n",
       "    <tr>\n",
       "      <td>0</td>\n",
       "      <td>1.560903</td>\n",
       "      <td>3.681587</td>\n",
       "      <td>3.450467</td>\n",
       "      <td>3.211998</td>\n",
       "      <td>-1.203045</td>\n",
       "      <td>0.597706</td>\n",
       "      <td>-0.970093</td>\n",
       "      <td>-0.750970</td>\n",
       "      <td>-0.511495</td>\n",
       "      <td>-0.133660</td>\n",
       "      <td>...</td>\n",
       "      <td>2.077401</td>\n",
       "      <td>1.184182</td>\n",
       "      <td>3.955069</td>\n",
       "      <td>2.608046</td>\n",
       "      <td>2.303629</td>\n",
       "      <td>1.721660</td>\n",
       "      <td>3.275018</td>\n",
       "      <td>1.761019</td>\n",
       "      <td>1.215237</td>\n",
       "      <td>1.0</td>\n",
       "    </tr>\n",
       "    <tr>\n",
       "      <td>1</td>\n",
       "      <td>4.153272</td>\n",
       "      <td>5.173858</td>\n",
       "      <td>4.100690</td>\n",
       "      <td>2.580173</td>\n",
       "      <td>3.305788</td>\n",
       "      <td>-1.505512</td>\n",
       "      <td>-0.029398</td>\n",
       "      <td>5.702657</td>\n",
       "      <td>2.230281</td>\n",
       "      <td>4.975496</td>\n",
       "      <td>...</td>\n",
       "      <td>3.467076</td>\n",
       "      <td>2.451984</td>\n",
       "      <td>3.504294</td>\n",
       "      <td>5.324240</td>\n",
       "      <td>4.480607</td>\n",
       "      <td>5.375248</td>\n",
       "      <td>2.270379</td>\n",
       "      <td>2.167944</td>\n",
       "      <td>2.191214</td>\n",
       "      <td>1.0</td>\n",
       "    </tr>\n",
       "    <tr>\n",
       "      <td>2</td>\n",
       "      <td>2.226241</td>\n",
       "      <td>1.575322</td>\n",
       "      <td>2.389117</td>\n",
       "      <td>2.725405</td>\n",
       "      <td>-0.304562</td>\n",
       "      <td>2.832803</td>\n",
       "      <td>1.787779</td>\n",
       "      <td>0.565755</td>\n",
       "      <td>1.328212</td>\n",
       "      <td>2.335353</td>\n",
       "      <td>...</td>\n",
       "      <td>1.200917</td>\n",
       "      <td>1.241794</td>\n",
       "      <td>2.207492</td>\n",
       "      <td>1.228034</td>\n",
       "      <td>0.870052</td>\n",
       "      <td>1.685040</td>\n",
       "      <td>2.341985</td>\n",
       "      <td>-0.444320</td>\n",
       "      <td>2.527452</td>\n",
       "      <td>1.0</td>\n",
       "    </tr>\n",
       "    <tr>\n",
       "      <td>3</td>\n",
       "      <td>3.553458</td>\n",
       "      <td>2.859042</td>\n",
       "      <td>2.928414</td>\n",
       "      <td>1.833241</td>\n",
       "      <td>1.271119</td>\n",
       "      <td>4.165213</td>\n",
       "      <td>2.078597</td>\n",
       "      <td>4.506175</td>\n",
       "      <td>2.521628</td>\n",
       "      <td>2.747315</td>\n",
       "      <td>...</td>\n",
       "      <td>3.196291</td>\n",
       "      <td>2.204824</td>\n",
       "      <td>3.664982</td>\n",
       "      <td>3.689508</td>\n",
       "      <td>2.577677</td>\n",
       "      <td>3.171884</td>\n",
       "      <td>2.164660</td>\n",
       "      <td>1.813024</td>\n",
       "      <td>1.376033</td>\n",
       "      <td>1.0</td>\n",
       "    </tr>\n",
       "    <tr>\n",
       "      <td>4</td>\n",
       "      <td>0.506547</td>\n",
       "      <td>1.419223</td>\n",
       "      <td>1.716153</td>\n",
       "      <td>1.319274</td>\n",
       "      <td>2.853840</td>\n",
       "      <td>0.047412</td>\n",
       "      <td>-0.016515</td>\n",
       "      <td>0.620795</td>\n",
       "      <td>1.202992</td>\n",
       "      <td>0.078347</td>\n",
       "      <td>...</td>\n",
       "      <td>1.806657</td>\n",
       "      <td>2.085539</td>\n",
       "      <td>2.012551</td>\n",
       "      <td>1.899477</td>\n",
       "      <td>1.510134</td>\n",
       "      <td>1.373350</td>\n",
       "      <td>2.551119</td>\n",
       "      <td>0.846321</td>\n",
       "      <td>-0.066858</td>\n",
       "      <td>1.0</td>\n",
       "    </tr>\n",
       "  </tbody>\n",
       "</table>\n",
       "<p>5 rows × 55 columns</p>\n",
       "</div>"
      ],
      "text/plain": [
       "         0         1         2         3         4         5         6   \\\n",
       "0  1.560903  3.681587  3.450467  3.211998 -1.203045  0.597706 -0.970093   \n",
       "1  4.153272  5.173858  4.100690  2.580173  3.305788 -1.505512 -0.029398   \n",
       "2  2.226241  1.575322  2.389117  2.725405 -0.304562  2.832803  1.787779   \n",
       "3  3.553458  2.859042  2.928414  1.833241  1.271119  4.165213  2.078597   \n",
       "4  0.506547  1.419223  1.716153  1.319274  2.853840  0.047412 -0.016515   \n",
       "\n",
       "         7         8         9   ...        45        46        47        48  \\\n",
       "0 -0.750970 -0.511495 -0.133660  ...  2.077401  1.184182  3.955069  2.608046   \n",
       "1  5.702657  2.230281  4.975496  ...  3.467076  2.451984  3.504294  5.324240   \n",
       "2  0.565755  1.328212  2.335353  ...  1.200917  1.241794  2.207492  1.228034   \n",
       "3  4.506175  2.521628  2.747315  ...  3.196291  2.204824  3.664982  3.689508   \n",
       "4  0.620795  1.202992  0.078347  ...  1.806657  2.085539  2.012551  1.899477   \n",
       "\n",
       "         49        50        51        52        53   54  \n",
       "0  2.303629  1.721660  3.275018  1.761019  1.215237  1.0  \n",
       "1  4.480607  5.375248  2.270379  2.167944  2.191214  1.0  \n",
       "2  0.870052  1.685040  2.341985 -0.444320  2.527452  1.0  \n",
       "3  2.577677  3.171884  2.164660  1.813024  1.376033  1.0  \n",
       "4  1.510134  1.373350  2.551119  0.846321 -0.066858  1.0  \n",
       "\n",
       "[5 rows x 55 columns]"
      ]
     },
     "execution_count": 2,
     "metadata": {},
     "output_type": "execute_result"
    }
   ],
   "source": [
    "# now get and clean the data\n",
    "data = pd.read_csv('q3.csv', header=None)\n",
    "data.head()"
   ]
  },
  {
   "cell_type": "code",
   "execution_count": 3,
   "metadata": {},
   "outputs": [],
   "source": [
    "# split the data into training and test sets\n",
    "X = data.drop(54, axis =1)\n",
    "y = data[54]\n",
    "X_train, X_test, y_train, y_test = train_test_split(X, y, test_size=0.20, random_state=15)\n"
   ]
  },
  {
   "cell_type": "code",
   "execution_count": 4,
   "metadata": {},
   "outputs": [
    {
     "name": "stdout",
     "output_type": "stream",
     "text": [
      "Naiive Bayes: \t\tNumber of mislabeled points out of a total 34 points : 1\n",
      "Accuracy: \t\t97.059 %\n",
      "\n",
      "Logistic Regression: \tNumber of mislabeled points out of a total 34 points : 1\n",
      "Accuracy: \t\t97.059 %\n",
      "\n",
      "K Nearest Neighbors: \tNumber of mislabeled points out of a total 34 points : 1\n",
      "Accuracy: \t\t97.059 %\n",
      "\n"
     ]
    }
   ],
   "source": [
    "# Get classifiers: Naive Bayes, Logistic Regression, KNN\n",
    "gnb = GaussianNB()\n",
    "y_pred_GNB = gnb.fit(X_train, y_train).predict(X_test)\n",
    "print(\"Naiive Bayes: \\t\\tNumber of mislabeled points out of a total %d points : %d\"\n",
    "      % (X_test.shape[0],(y_test != y_pred_GNB).sum()))\n",
    "print(\"Accuracy: \\t\\t{:2.3f} %\\n\".format((X_test.shape[0]-(y_test != y_pred_GNB).sum())/X_test.shape[0]*100))\n",
    "\n",
    "clf = LogisticRegression(solver='lbfgs')#(random_state = 455421, solver = 'lbfgs')\n",
    "y_pred_LogReg = clf.fit(X_train, y_train).predict(X_test)\n",
    "print(\"Logistic Regression: \\tNumber of mislabeled points out of a total %d points : %d\"\n",
    "      % (X_test.shape[0],(y_test != y_pred_LogReg).sum()))\n",
    "print(\"Accuracy: \\t\\t{:2.3f} %\\n\".format((X_test.shape[0]-(y_test != y_pred_LogReg).sum())/X_test.shape[0]*100))\n",
    "\n",
    "knn = KNeighborsClassifier()#(n_neighbors = 5, algorithm = 'kd_tree')\n",
    "y_pred_knn = knn.fit(X_train, y_train).predict(X_test)\n",
    "print(\"K Nearest Neighbors: \\tNumber of mislabeled points out of a total %d points : %d\"\n",
    "      % (X_test.shape[0],(y_test != y_pred_knn).sum()))\n",
    "print(\"Accuracy: \\t\\t{:2.3f} %\\n\".format((X_test.shape[0]-(y_test != y_pred_knn).sum())/X_test.shape[0]*100))"
   ]
  },
  {
   "cell_type": "markdown",
   "metadata": {},
   "source": [
    "All algorithms converge to the correct classifications. This is likely due to several factors, chief of which is that the data is well suited to each classifier. The data can be approximated by a bimodal Gaussian distribution which aides the Naive Bayes classifier. The data is also well suited for logistic regression, though the algorithm needs about 38 iterations for the algorithm to converge. Both Naive Bayes (Gaussian) and Logistic Regression have a linear decision boundary, for which this data is well suited. Lastly, the nearest neighbors classifier performs well because the data is naturally clustered in the $\\mathbb{R}^{54}$ feature space -- in fact when tuning this algorithm it only breaks when the network is extremely overconnected (>130 neighbors)."
   ]
  },
  {
   "cell_type": "markdown",
   "metadata": {},
   "source": [
    "(b)  <b>Use the first two features to train three new classifiers.  Plot the data points and decision boundary of each classifier.  Comment on the difference between the decision boundary for the three classifiers.  Please clearly represent the data points with different labels using different colors.</b>"
   ]
  },
  {
   "cell_type": "code",
   "execution_count": 5,
   "metadata": {},
   "outputs": [],
   "source": [
    "Xs = data[[0,1]]\n",
    "Xs_train, Xs_test, ys_train, ys_test = train_test_split(Xs, y, test_size=0.20, random_state=15)\n",
    "ys_pred_GNB = gnb.fit(Xs_train, ys_train).predict(Xs_test)\n",
    "ys_pred_LogReg = clf.fit(Xs_train, ys_train).predict(Xs_test)\n",
    "ys_pred_knn = knn.fit(Xs_train, ys_train).predict(Xs_test)"
   ]
  },
  {
   "cell_type": "code",
   "execution_count": 6,
   "metadata": {},
   "outputs": [],
   "source": [
    "xmin = min(Xs[0])-1\n",
    "ymin = min(Xs[1])-1\n",
    "xmax = max(Xs[0])+1\n",
    "ymax = max(Xs[1])+1\n",
    "\n",
    "xv, yv = np.mgrid[xmin:xmax:1000j, ymin:ymax:1000j]\n"
   ]
  },
  {
   "cell_type": "markdown",
   "metadata": {},
   "source": [
    "<b><u>FOR ALL PLOTS BELOW:</u></b><br>\n",
    "The <b><font color = 'darkred'>dark red</font></b> on the left corresponds to points that should be <b><font color ='red'>red</font></b>. The <b>lighter color</b> on the right corresponds to points that should be <b><font color ='blue'>blue</font></b>. "
   ]
  },
  {
   "cell_type": "code",
   "execution_count": 7,
   "metadata": {},
   "outputs": [
    {
     "data": {
      "text/plain": [
       "Text(0, 0.5, 'x2')"
      ]
     },
     "execution_count": 7,
     "metadata": {},
     "output_type": "execute_result"
    },
    {
     "data": {
      "image/png": "[encoded data removed]",
      "text/plain": [
       "<Figure size 720x720 with 1 Axes>"
      ]
     },
     "metadata": {
      "needs_background": "light"
     },
     "output_type": "display_data"
    }
   ],
   "source": [
    "#now the naive bayes classifier\n",
    "A_GNB = gnb.fit(Xs_train, ys_train).predict(np.c_[xv.ravel(),yv.ravel()])\n",
    "A_GNB = A_GNB.reshape(xv.shape)\n",
    "# plt.contour(xv, yv, A_GNB, cmap = 'RdBu_r')\n",
    "plt.figure(figsize=(10,10))\n",
    "plt.pcolormesh(xv, yv, A_GNB, cmap = 'YlOrRd_r')\n",
    "plt.plot(Xs[0][y==1],Xs[1][y==1], 'b.')\n",
    "plt.plot(Xs[0][y==0],Xs[1][y==0], 'r.')\n",
    "plt.title('Naive Bayes')\n",
    "plt.xlabel('x1')\n",
    "plt.ylabel('x2')"
   ]
  },
  {
   "cell_type": "markdown",
   "metadata": {},
   "source": [
    "The Gaussian Naive Bayes decision boundary is a linear boundary in the $x_1$, $x_2$ space. The reason for this can be proven mathematically, but I will not do so here. Here is a [link](https://stats.stackexchange.com/questions/369849/proving-that-gaussian-naive-bayes-decision-boundary-is-linear) to a proof if you are interested in why. You can clearly see that using a linear decision boundary like Gaussian Naive Bayes, some points will be misclassified as there is no way to bisect the data with 100% accuracy using a line. "
   ]
  },
  {
   "cell_type": "code",
   "execution_count": 8,
   "metadata": {},
   "outputs": [
    {
     "data": {
      "text/plain": [
       "Text(0, 0.5, 'x2')"
      ]
     },
     "execution_count": 8,
     "metadata": {},
     "output_type": "execute_result"
    },
    {
     "data": {
      "image/png": "[encoded data removed]",
      "text/plain": [
       "<Figure size 720x720 with 1 Axes>"
      ]
     },
     "metadata": {
      "needs_background": "light"
     },
     "output_type": "display_data"
    }
   ],
   "source": [
    "#now the logistic regression classifier\n",
    "A_LogReg = clf.fit(Xs_train, ys_train).predict(np.c_[xv.ravel(),yv.ravel()])\n",
    "A_LogReg = A_LogReg.reshape(xv.shape)\n",
    "# plt.contour(xv, yv, A_GNB, cmap = 'RdBu_r')\n",
    "plt.figure(figsize=(10,10))\n",
    "plt.pcolormesh(xv, yv, A_LogReg, cmap = 'YlOrRd_r')\n",
    "plt.plot(Xs[0][y==1],Xs[1][y==1], 'b.')\n",
    "plt.plot(Xs[0][y==0],Xs[1][y==0], 'r.')\n",
    "plt.title('Logistic Regression')\n",
    "plt.xlabel('x1')\n",
    "plt.ylabel('x2')"
   ]
  },
  {
   "cell_type": "markdown",
   "metadata": {},
   "source": [
    "Similar to the Naive Bayes case, the logistic regression boundary is linear. The slope is different from the Naive Bayes classifier boundary, but the number of points that get classified incorrectly by logistic regression is identical to that of Gaussian Naive Bayes. "
   ]
  },
  {
   "cell_type": "code",
   "execution_count": 9,
   "metadata": {},
   "outputs": [
    {
     "data": {
      "text/plain": [
       "Text(0, 0.5, 'x2')"
      ]
     },
     "execution_count": 9,
     "metadata": {},
     "output_type": "execute_result"
    },
    {
     "data": {
      "image/png": "[encoded data removed]",
      "text/plain": [
       "<Figure size 720x720 with 1 Axes>"
      ]
     },
     "metadata": {
      "needs_background": "light"
     },
     "output_type": "display_data"
    }
   ],
   "source": [
    "#now the nearest neighbors classifier\n",
    "A_knn = knn.fit(Xs_train, ys_train).predict(np.c_[xv.ravel(),yv.ravel()])\n",
    "A_knn = A_knn.reshape(xv.shape)\n",
    "# plt.contour(xv, yv, A_GNB, cmap = 'RdBu_r')\n",
    "plt.figure(figsize=(10,10))\n",
    "plt.pcolormesh(xv, yv, A_knn, cmap = 'YlOrRd_r')\n",
    "plt.plot(Xs[0][y==1],Xs[1][y==1], 'b.')\n",
    "plt.plot(Xs[0][y==0],Xs[1][y==0], 'r.')\n",
    "plt.title('Nearest Neighbors')\n",
    "plt.xlabel('x1')\n",
    "plt.ylabel('x2')"
   ]
  },
  {
   "cell_type": "markdown",
   "metadata": {},
   "source": [
    "The Nearest Neighbors classifier does not have a linear decision boundary. As such we see a more squiggly line than in the Naive Bayes or Logistic Regression classifier cases. On the full dataset the Nearest Neighbors classifier actually seems to do worse than the other two classifers. It also might be that these two features ($x_1$ and $x_2$) are particularly ill-suited for Nearest Neighbors classification amongst others in the dataset. Nearest neighbors also takes much longer than the other two classifiers to converge. "
   ]
  },
  {
   "cell_type": "markdown",
   "metadata": {},
   "source": [
    "<h3>Part Two (Handwritten digits classification).<t>(20 points)</h3><br> <b>Repeat the above using the MNIST Data in our Homework 3.  Here, give “digit” 6 label $y=1$, and give “digit” 2 label $y= 0$.  All the pixels in each image will be the feature (predictor variables) for that sample (i.e., image).  Our goal is to build classifier to such that given a new test sample, we can tell is it a 2 or a 6.  Using the first 80% of the samples for training and remaining 20% for testing.  Report the classification accuracy on testing data, for each of the three classifiers.  Comment on their performance:  which performs the best and make a guess why they perform the best in this setting.</b>"
   ]
  },
  {
   "cell_type": "code",
   "execution_count": 10,
   "metadata": {},
   "outputs": [],
   "source": [
    "# read data and do preprocessing (unscrew the column order storage artifact!)\n",
    "import math\n",
    "\n",
    "\n",
    "data = pd.read_csv('data.dat', sep='\\s+', header=None).values\n",
    "(P, N) = data.shape\n",
    "p = int(math.sqrt(P))\n",
    "data = data.T.reshape((N, p, p), order='F').reshape((N,P)).T"
   ]
  },
  {
   "cell_type": "code",
   "execution_count": 11,
   "metadata": {},
   "outputs": [],
   "source": [
    "#relabel the data\n",
    "olabels = pd.read_csv('label.dat', sep='\\s+', header=None).values\n",
    "nlabels = (olabels == 6).astype(int)\n"
   ]
  },
  {
   "cell_type": "code",
   "execution_count": 12,
   "metadata": {},
   "outputs": [],
   "source": [
    "X_train, X_test, y_train, y_test = train_test_split(data.T, nlabels.T, test_size=0.20, random_state=15)\n",
    "y_train = y_train.reshape((X_train.shape[0]))\n",
    "y_test = y_test.reshape((X_test.shape[0]))"
   ]
  },
  {
   "cell_type": "code",
   "execution_count": 13,
   "metadata": {},
   "outputs": [
    {
     "name": "stdout",
     "output_type": "stream",
     "text": [
      "Naiive Bayes: \t\tNumber of mislabeled points out of a total 398 points : 83\n",
      "Accuracy: \t\t79.146 %\n",
      "\n",
      "Logistic Regression: \tNumber of mislabeled points out of a total 398 points : 9\n",
      "Accuracy: \t\t97.739 %\n",
      "\n",
      "K Nearest Neighbors: \tNumber of mislabeled points out of a total 398 points : 2\n",
      "Accuracy: \t\t99.497 %\n",
      "\n"
     ]
    }
   ],
   "source": [
    "# Get classifiers: Naive Bayes, Logistic Regression, KNN\n",
    "gnb = GaussianNB()\n",
    "y_pred_GNB = gnb.fit(X_train, y_train).predict(X_test)\n",
    "print(\"Naiive Bayes: \\t\\tNumber of mislabeled points out of a total %d points : %d\"\n",
    "      % (X_test.shape[0],(y_test != y_pred_GNB).sum()))\n",
    "print(\"Accuracy: \\t\\t{:2.3f} %\\n\".format((X_test.shape[0]-(y_test != y_pred_GNB).sum())/X_test.shape[0]*100))\n",
    "\n",
    "clf = LogisticRegression(solver='lbfgs')#(random_state = 455421, solver = 'lbfgs')\n",
    "y_pred_LogReg = clf.fit(X_train, y_train).predict(X_test)\n",
    "print(\"Logistic Regression: \\tNumber of mislabeled points out of a total %d points : %d\"\n",
    "      % (X_test.shape[0],(y_test != y_pred_LogReg).sum()))\n",
    "print(\"Accuracy: \\t\\t{:2.3f} %\\n\".format((X_test.shape[0]-(y_test != y_pred_LogReg).sum())/X_test.shape[0]*100))\n",
    "\n",
    "knn = KNeighborsClassifier()#(n_neighbors = 5, algorithm = 'kd_tree')\n",
    "y_pred_knn = knn.fit(X_train, y_train).predict(X_test)\n",
    "print(\"K Nearest Neighbors: \\tNumber of mislabeled points out of a total %d points : %d\"\n",
    "      % (X_test.shape[0],(y_test != y_pred_knn).sum()))\n",
    "print(\"Accuracy: \\t\\t{:2.3f} %\\n\".format((X_test.shape[0]-(y_test != y_pred_knn).sum())/X_test.shape[0]*100))"
   ]
  },
  {
   "cell_type": "markdown",
   "metadata": {},
   "source": [
    "The Gaussian Naive Bayes performs the worst on unseen data. This is likely due to the fact that the Naive Bayes classifer assumes that all input dimensions are independent. For example: the likelihood that a pixel will be black <i>is</i> contingent on whether the nearby pixels are black, however Naive Bayes treats each pixel as independent from the others.\n",
    "\n",
    "Logistic regression performs well on unseen data, but Nearest Neighbors performs the best. My guess for why this is the case is similar to what we saw with the Divorce data: the dissimiliarity between pixels of similar shape and layout (indicating the handwritten digit is the same) is smaller, meaning the neighborhoods are smaller and the pixel data will be more tightly clustered in the $\\mathbb{R}^{784}$ space for images that are similar (have same labels). "
   ]
  }
 ],
 "metadata": {
  "kernelspec": {
   "display_name": "Python 3",
   "language": "python",
   "name": "python3"
  },
  "language_info": {
   "codemirror_mode": {
    "name": "ipython",
    "version": 3
   },
   "file_extension": ".py",
   "mimetype": "text/x-python",
   "name": "python",
   "nbconvert_exporter": "python",
   "pygments_lexer": "ipython3",
   "version": "3.6.9"
  }
 },
 "nbformat": 4,
 "nbformat_minor": 2
}
